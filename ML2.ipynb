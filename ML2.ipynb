{
 "cells": [
  {
   "cell_type": "markdown",
   "id": "79682471",
   "metadata": {},
   "source": [
    "## Цель лабораторной работы – получение навыков работы с библиотеками анализа данных, предварительной обработки данных, средствами визуализации"
   ]
  },
  {
   "cell_type": "markdown",
   "id": "0d438e75",
   "metadata": {},
   "source": [
    "1. Определите количество мужчин и женщин, которые ехали на корабле.\n",
    "2. Определите какой части пассажиров удалось выжить. Посчитайте долю выживших пассажиров.\n",
    "3. Какую долю пассажиры первого класса составляли среди всех пассажиров?\n",
    "4. Какого возраста были пассажиры? Посчитайте среднее и медиану возраста пассажиров.\n",
    "5. Коррелируют ли число братьев/сестер с числом родителей/детей? Посчитайте корреляцию\n",
    "Пирсона между признаками SibSp и Parch. Оцените значение p-value. Постройте плотность\n",
    "распределения признаков SibSp и Parch.\n",
    "6. Какое самое популярное женское имя на корабле? Извлеките из полного имени пассажира\n",
    "(колонка Name) его личное имя (First Name). Попробуйте вручную разобрать несколько значений\n",
    "столбца Name и выработать правило для извлечения имен, а также разделения их на женские и\n",
    "мужские.\n",
    "7. Коррелирует ли класс, которым ехал пассажир, с выживаемостью?\n",
    "8. Визуализируйте гистограммы возраста для выживших и не выживших пассажиров. Сделайте\n",
    "выводы. Отобразите данные на одном и нескольких графиках\n",
    "9. Визуализируйте гистограммы возраста для выживших и не выживших пассажиров по классам.\n",
    "Сделайте выводы.\n",
    "10. Постройте столбчатую диаграмму количества людей: мужчины, женщины, дети."
   ]
  },
  {
   "cell_type": "markdown",
   "id": "e6c2e5ba",
   "metadata": {},
   "source": [
    "<table>\n",
    "<caption style=\"text-align:center; font-weight: bold;color:black; font-size:20px; text-decoration:underline;\">Titanic</caption>\n",
    "    <thead>\n",
    "        <th>Название</th>\n",
    "        <th>Тип</th>\n",
    "        <th>Описание</th>\n",
    "    </thead>\n",
    "    <tbody>\n",
    "        <tr>\n",
    "            <td>pclass</td>\n",
    "            <td>Порядковый</td>\n",
    "            <td>Класс пассажира</td>\n",
    "        </tr>\n",
    "        <tr>\n",
    "            <td>survived</td>\n",
    "            <td>Бинарный</td>\n",
    "            <td>Выжил ли пассажир</td>\n",
    "        </tr>\n",
    "        <tr>\n",
    "            <td>name</td>\n",
    "            <td>Номинальный</td>\n",
    "            <td>Имя пассажира</td>\n",
    "        </tr>\n",
    "        <tr>\n",
    "            <td>sex</td>\n",
    "            <td>Бинарный</td>\n",
    "            <td>Пол пассажира</td>\n",
    "        </tr>\n",
    "        <tr>\n",
    "            <td>age</td>\n",
    "            <td>Количественный</td>\n",
    "            <td>Возраст пассажира</td>\n",
    "        </tr>\n",
    "        <tr>\n",
    "            <td>sibsp</td>\n",
    "            <td>Количественный</td>\n",
    "            <td>Число братьев, сестер или супругов<br /> на борту у пассажира</td>\n",
    "        </tr>\n",
    "          <tr>\n",
    "            <td>parch</td>\n",
    "            <td>Количественный</td>\n",
    "            <td>Количество родителей или детей,<br /> с которыми путешествовал каждый пассажир</td>\n",
    "        </tr>\n",
    "        <tr>\n",
    "            <td>ticket</td>\n",
    "            <td>Номинальный</td>\n",
    "            <td>Номер билета</td>\n",
    "        </tr>\n",
    "        <tr>\n",
    "            <td>fare</td>\n",
    "            <td>Количественный</td>\n",
    "            <td>Стоимость билета</td>\n",
    "        </tr>\n",
    "        <tr>\n",
    "            <td>cabin</td>\n",
    "            <td>Номинальный</td>\n",
    "            <td>Стоимость кабины</td>\n",
    "        </tr>\n",
    "        <tr>\n",
    "            <td>embarked</td>\n",
    "            <td>Номинальный</td>\n",
    "            <td>Порт посадки пассажира</td>\n",
    "        </tr>\n",
    "        <tr>\n",
    "            <td>boat</td>\n",
    "            <td>Номинальный</td>\n",
    "            <td>Номер шлюпки,<br/>которую пассажир занял при крушении</td>\n",
    "        </tr>\n",
    "        <tr>\n",
    "            <td>home.dest</td>\n",
    "            <td>Номинальный</td>\n",
    "            <td>Место назначения</td>\n",
    "        </tr>\n",
    "    </tbody>\n",
    "</table>"
   ]
  },
  {
   "cell_type": "code",
   "execution_count": 1,
   "id": "d6d35829",
   "metadata": {},
   "outputs": [],
   "source": [
    "import pandas as pd\n",
    "import numpy as np\n"
   ]
  },
  {
   "cell_type": "code",
   "execution_count": 2,
   "id": "f2943827",
   "metadata": {},
   "outputs": [
    {
     "data": {
      "text/plain": [
       "(1310, 14)"
      ]
     },
     "execution_count": 2,
     "metadata": {},
     "output_type": "execute_result"
    }
   ],
   "source": [
    "df = pd.read_csv('titanic2.csv', sep=';', decimal=',')\n",
    "df.drop_duplicates(inplace=True)\n",
    "df.shape"
   ]
  },
  {
   "cell_type": "code",
   "execution_count": 3,
   "id": "a5591f47",
   "metadata": {},
   "outputs": [
    {
     "data": {
      "text/html": [
       "<div>\n",
       "<style scoped>\n",
       "    .dataframe tbody tr th:only-of-type {\n",
       "        vertical-align: middle;\n",
       "    }\n",
       "\n",
       "    .dataframe tbody tr th {\n",
       "        vertical-align: top;\n",
       "    }\n",
       "\n",
       "    .dataframe thead th {\n",
       "        text-align: right;\n",
       "    }\n",
       "</style>\n",
       "<table border=\"1\" class=\"dataframe\">\n",
       "  <thead>\n",
       "    <tr style=\"text-align: right;\">\n",
       "      <th></th>\n",
       "      <th>pclass</th>\n",
       "      <th>survived</th>\n",
       "      <th>name</th>\n",
       "      <th>sex</th>\n",
       "      <th>age</th>\n",
       "      <th>sibsp</th>\n",
       "      <th>parch</th>\n",
       "      <th>ticket</th>\n",
       "      <th>fare</th>\n",
       "      <th>cabin</th>\n",
       "      <th>embarked</th>\n",
       "      <th>boat</th>\n",
       "      <th>body</th>\n",
       "      <th>home.dest</th>\n",
       "    </tr>\n",
       "  </thead>\n",
       "  <tbody>\n",
       "    <tr>\n",
       "      <th>0</th>\n",
       "      <td>1.0</td>\n",
       "      <td>1.0</td>\n",
       "      <td>Allen, Miss. Elisabeth Walton</td>\n",
       "      <td>female</td>\n",
       "      <td>29.0000</td>\n",
       "      <td>0.0</td>\n",
       "      <td>0.0</td>\n",
       "      <td>24160</td>\n",
       "      <td>211.3375</td>\n",
       "      <td>B5</td>\n",
       "      <td>S</td>\n",
       "      <td>2</td>\n",
       "      <td>NaN</td>\n",
       "      <td>St Louis, MO</td>\n",
       "    </tr>\n",
       "    <tr>\n",
       "      <th>1</th>\n",
       "      <td>1.0</td>\n",
       "      <td>1.0</td>\n",
       "      <td>Allison, Master. Hudson Trevor</td>\n",
       "      <td>male</td>\n",
       "      <td>0.9167</td>\n",
       "      <td>1.0</td>\n",
       "      <td>2.0</td>\n",
       "      <td>113781</td>\n",
       "      <td>151.5500</td>\n",
       "      <td>C22 C26</td>\n",
       "      <td>S</td>\n",
       "      <td>11</td>\n",
       "      <td>NaN</td>\n",
       "      <td>Montreal, PQ / Chesterville, ON</td>\n",
       "    </tr>\n",
       "    <tr>\n",
       "      <th>2</th>\n",
       "      <td>1.0</td>\n",
       "      <td>0.0</td>\n",
       "      <td>Allison, Miss. Helen Loraine</td>\n",
       "      <td>female</td>\n",
       "      <td>2.0000</td>\n",
       "      <td>1.0</td>\n",
       "      <td>2.0</td>\n",
       "      <td>113781</td>\n",
       "      <td>151.5500</td>\n",
       "      <td>C22 C26</td>\n",
       "      <td>S</td>\n",
       "      <td>NaN</td>\n",
       "      <td>NaN</td>\n",
       "      <td>Montreal, PQ / Chesterville, ON</td>\n",
       "    </tr>\n",
       "    <tr>\n",
       "      <th>3</th>\n",
       "      <td>1.0</td>\n",
       "      <td>0.0</td>\n",
       "      <td>Allison, Mr. Hudson Joshua Creighton</td>\n",
       "      <td>male</td>\n",
       "      <td>30.0000</td>\n",
       "      <td>1.0</td>\n",
       "      <td>2.0</td>\n",
       "      <td>113781</td>\n",
       "      <td>151.5500</td>\n",
       "      <td>C22 C26</td>\n",
       "      <td>S</td>\n",
       "      <td>NaN</td>\n",
       "      <td>135.0</td>\n",
       "      <td>Montreal, PQ / Chesterville, ON</td>\n",
       "    </tr>\n",
       "    <tr>\n",
       "      <th>4</th>\n",
       "      <td>1.0</td>\n",
       "      <td>0.0</td>\n",
       "      <td>Allison, Mrs. Hudson J C (Bessie Waldo Daniels)</td>\n",
       "      <td>female</td>\n",
       "      <td>25.0000</td>\n",
       "      <td>1.0</td>\n",
       "      <td>2.0</td>\n",
       "      <td>113781</td>\n",
       "      <td>151.5500</td>\n",
       "      <td>C22 C26</td>\n",
       "      <td>S</td>\n",
       "      <td>NaN</td>\n",
       "      <td>NaN</td>\n",
       "      <td>Montreal, PQ / Chesterville, ON</td>\n",
       "    </tr>\n",
       "  </tbody>\n",
       "</table>\n",
       "</div>"
      ],
      "text/plain": [
       "   pclass  survived                                             name     sex  \\\n",
       "0     1.0       1.0                    Allen, Miss. Elisabeth Walton  female   \n",
       "1     1.0       1.0                   Allison, Master. Hudson Trevor    male   \n",
       "2     1.0       0.0                     Allison, Miss. Helen Loraine  female   \n",
       "3     1.0       0.0             Allison, Mr. Hudson Joshua Creighton    male   \n",
       "4     1.0       0.0  Allison, Mrs. Hudson J C (Bessie Waldo Daniels)  female   \n",
       "\n",
       "       age  sibsp  parch  ticket      fare    cabin embarked boat   body  \\\n",
       "0  29.0000    0.0    0.0   24160  211.3375       B5        S    2    NaN   \n",
       "1   0.9167    1.0    2.0  113781  151.5500  C22 C26        S   11    NaN   \n",
       "2   2.0000    1.0    2.0  113781  151.5500  C22 C26        S  NaN    NaN   \n",
       "3  30.0000    1.0    2.0  113781  151.5500  C22 C26        S  NaN  135.0   \n",
       "4  25.0000    1.0    2.0  113781  151.5500  C22 C26        S  NaN    NaN   \n",
       "\n",
       "                         home.dest  \n",
       "0                     St Louis, MO  \n",
       "1  Montreal, PQ / Chesterville, ON  \n",
       "2  Montreal, PQ / Chesterville, ON  \n",
       "3  Montreal, PQ / Chesterville, ON  \n",
       "4  Montreal, PQ / Chesterville, ON  "
      ]
     },
     "execution_count": 3,
     "metadata": {},
     "output_type": "execute_result"
    }
   ],
   "source": [
    "df.head()"
   ]
  },
  {
   "cell_type": "code",
   "execution_count": 4,
   "id": "9e276290",
   "metadata": {},
   "outputs": [
    {
     "data": {
      "text/html": [
       "<div>\n",
       "<style scoped>\n",
       "    .dataframe tbody tr th:only-of-type {\n",
       "        vertical-align: middle;\n",
       "    }\n",
       "\n",
       "    .dataframe tbody tr th {\n",
       "        vertical-align: top;\n",
       "    }\n",
       "\n",
       "    .dataframe thead th {\n",
       "        text-align: right;\n",
       "    }\n",
       "</style>\n",
       "<table border=\"1\" class=\"dataframe\">\n",
       "  <thead>\n",
       "    <tr style=\"text-align: right;\">\n",
       "      <th></th>\n",
       "      <th>pclass</th>\n",
       "      <th>survived</th>\n",
       "      <th>name</th>\n",
       "      <th>sex</th>\n",
       "      <th>age</th>\n",
       "      <th>sibsp</th>\n",
       "      <th>parch</th>\n",
       "      <th>ticket</th>\n",
       "      <th>fare</th>\n",
       "      <th>cabin</th>\n",
       "      <th>embarked</th>\n",
       "      <th>boat</th>\n",
       "      <th>body</th>\n",
       "      <th>home.dest</th>\n",
       "    </tr>\n",
       "  </thead>\n",
       "  <tbody>\n",
       "    <tr>\n",
       "      <th>1305</th>\n",
       "      <td>3.0</td>\n",
       "      <td>0.0</td>\n",
       "      <td>Zabour, Miss. Thamine</td>\n",
       "      <td>female</td>\n",
       "      <td>NaN</td>\n",
       "      <td>1.0</td>\n",
       "      <td>0.0</td>\n",
       "      <td>2665</td>\n",
       "      <td>14.4542</td>\n",
       "      <td>NaN</td>\n",
       "      <td>C</td>\n",
       "      <td>NaN</td>\n",
       "      <td>NaN</td>\n",
       "      <td>NaN</td>\n",
       "    </tr>\n",
       "    <tr>\n",
       "      <th>1306</th>\n",
       "      <td>3.0</td>\n",
       "      <td>0.0</td>\n",
       "      <td>Zakarian, Mr. Mapriededer</td>\n",
       "      <td>male</td>\n",
       "      <td>26.5</td>\n",
       "      <td>0.0</td>\n",
       "      <td>0.0</td>\n",
       "      <td>2656</td>\n",
       "      <td>7.2250</td>\n",
       "      <td>NaN</td>\n",
       "      <td>C</td>\n",
       "      <td>NaN</td>\n",
       "      <td>304.0</td>\n",
       "      <td>NaN</td>\n",
       "    </tr>\n",
       "    <tr>\n",
       "      <th>1307</th>\n",
       "      <td>3.0</td>\n",
       "      <td>0.0</td>\n",
       "      <td>Zakarian, Mr. Ortin</td>\n",
       "      <td>male</td>\n",
       "      <td>27.0</td>\n",
       "      <td>0.0</td>\n",
       "      <td>0.0</td>\n",
       "      <td>2670</td>\n",
       "      <td>7.2250</td>\n",
       "      <td>NaN</td>\n",
       "      <td>C</td>\n",
       "      <td>NaN</td>\n",
       "      <td>NaN</td>\n",
       "      <td>NaN</td>\n",
       "    </tr>\n",
       "    <tr>\n",
       "      <th>1308</th>\n",
       "      <td>3.0</td>\n",
       "      <td>0.0</td>\n",
       "      <td>Zimmerman, Mr. Leo</td>\n",
       "      <td>male</td>\n",
       "      <td>29.0</td>\n",
       "      <td>0.0</td>\n",
       "      <td>0.0</td>\n",
       "      <td>315082</td>\n",
       "      <td>7.8750</td>\n",
       "      <td>NaN</td>\n",
       "      <td>S</td>\n",
       "      <td>NaN</td>\n",
       "      <td>NaN</td>\n",
       "      <td>NaN</td>\n",
       "    </tr>\n",
       "    <tr>\n",
       "      <th>1309</th>\n",
       "      <td>NaN</td>\n",
       "      <td>NaN</td>\n",
       "      <td>NaN</td>\n",
       "      <td>NaN</td>\n",
       "      <td>NaN</td>\n",
       "      <td>NaN</td>\n",
       "      <td>NaN</td>\n",
       "      <td>NaN</td>\n",
       "      <td>NaN</td>\n",
       "      <td>NaN</td>\n",
       "      <td>NaN</td>\n",
       "      <td>NaN</td>\n",
       "      <td>NaN</td>\n",
       "      <td>NaN</td>\n",
       "    </tr>\n",
       "  </tbody>\n",
       "</table>\n",
       "</div>"
      ],
      "text/plain": [
       "      pclass  survived                       name     sex   age  sibsp  parch  \\\n",
       "1305     3.0       0.0      Zabour, Miss. Thamine  female   NaN    1.0    0.0   \n",
       "1306     3.0       0.0  Zakarian, Mr. Mapriededer    male  26.5    0.0    0.0   \n",
       "1307     3.0       0.0        Zakarian, Mr. Ortin    male  27.0    0.0    0.0   \n",
       "1308     3.0       0.0         Zimmerman, Mr. Leo    male  29.0    0.0    0.0   \n",
       "1309     NaN       NaN                        NaN     NaN   NaN    NaN    NaN   \n",
       "\n",
       "      ticket     fare cabin embarked boat   body home.dest  \n",
       "1305    2665  14.4542   NaN        C  NaN    NaN       NaN  \n",
       "1306    2656   7.2250   NaN        C  NaN  304.0       NaN  \n",
       "1307    2670   7.2250   NaN        C  NaN    NaN       NaN  \n",
       "1308  315082   7.8750   NaN        S  NaN    NaN       NaN  \n",
       "1309     NaN      NaN   NaN      NaN  NaN    NaN       NaN  "
      ]
     },
     "execution_count": 4,
     "metadata": {},
     "output_type": "execute_result"
    }
   ],
   "source": [
    "df.tail()"
   ]
  },
  {
   "cell_type": "code",
   "execution_count": 5,
   "id": "c41a5d39",
   "metadata": {},
   "outputs": [
    {
     "name": "stdout",
     "output_type": "stream",
     "text": [
      "<class 'pandas.core.frame.DataFrame'>\n",
      "Int64Index: 1310 entries, 0 to 1309\n",
      "Data columns (total 14 columns):\n",
      " #   Column     Non-Null Count  Dtype  \n",
      "---  ------     --------------  -----  \n",
      " 0   pclass     1309 non-null   float64\n",
      " 1   survived   1309 non-null   float64\n",
      " 2   name       1309 non-null   object \n",
      " 3   sex        1309 non-null   object \n",
      " 4   age        1046 non-null   float64\n",
      " 5   sibsp      1309 non-null   float64\n",
      " 6   parch      1309 non-null   float64\n",
      " 7   ticket     1309 non-null   object \n",
      " 8   fare       1308 non-null   float64\n",
      " 9   cabin      295 non-null    object \n",
      " 10  embarked   1307 non-null   object \n",
      " 11  boat       486 non-null    object \n",
      " 12  body       121 non-null    float64\n",
      " 13  home.dest  745 non-null    object \n",
      "dtypes: float64(7), object(7)\n",
      "memory usage: 153.5+ KB\n"
     ]
    }
   ],
   "source": [
    "df.info()"
   ]
  },
  {
   "cell_type": "markdown",
   "id": "bb1d92a2",
   "metadata": {},
   "source": [
    "# 1. Определите количество мужчин и женщин, которые ехали на корабле"
   ]
  },
  {
   "cell_type": "code",
   "execution_count": 6,
   "id": "9bfebba1",
   "metadata": {},
   "outputs": [
    {
     "data": {
      "text/plain": [
       "sex\n",
       "female    466\n",
       "male      843\n",
       "Name: survived, dtype: int64"
      ]
     },
     "execution_count": 6,
     "metadata": {},
     "output_type": "execute_result"
    }
   ],
   "source": [
    "df.groupby('sex')['survived'].count()"
   ]
  },
  {
   "cell_type": "markdown",
   "id": "7d91ccfd",
   "metadata": {},
   "source": [
    "# 2. Определите какой части пассажиров удалось выжить. Посчитайте долю выживших пассажиров"
   ]
  },
  {
   "cell_type": "code",
   "execution_count": 7,
   "id": "2b862f0f",
   "metadata": {},
   "outputs": [
    {
     "data": {
      "text/plain": [
       "0.3816793893129771"
      ]
     },
     "execution_count": 7,
     "metadata": {},
     "output_type": "execute_result"
    }
   ],
   "source": [
    "pass_count = df.shape[0]\n",
    "survived_count_all =  df[df['survived'] == 1].shape[0]\n",
    "survived_count_all / pass_count"
   ]
  },
  {
   "cell_type": "markdown",
   "id": "249d587c",
   "metadata": {},
   "source": [
    "# 3. Какую долю пассажиры первого класса составляли среди всех пассажиров?"
   ]
  },
  {
   "cell_type": "code",
   "execution_count": 8,
   "id": "c01dd578",
   "metadata": {},
   "outputs": [
    {
     "data": {
      "text/plain": [
       "0.24656488549618322"
      ]
     },
     "execution_count": 8,
     "metadata": {},
     "output_type": "execute_result"
    }
   ],
   "source": [
    "first_class = df[df['pclass'] == 1].shape[0]\n",
    "first_class / pass_count"
   ]
  },
  {
   "cell_type": "markdown",
   "id": "204e4223",
   "metadata": {},
   "source": [
    "# 4. Какого возраста были пассажиры? Посчитайте среднее и медиану возраста пассажиров"
   ]
  },
  {
   "cell_type": "code",
   "execution_count": 9,
   "id": "05c02d45",
   "metadata": {},
   "outputs": [
    {
     "name": "stdout",
     "output_type": "stream",
     "text": [
      "Среднее: 29.8811345124283\n",
      "Медиана: 28.0\n"
     ]
    }
   ],
   "source": [
    "age_mean = df['age'].mean()\n",
    "age_median = df['age'].median()\n",
    "print(f\"Среднее: {age_mean}\")\n",
    "print(f\"Медиана: {age_median}\")\n"
   ]
  },
  {
   "cell_type": "markdown",
   "id": "ad3a6cc8",
   "metadata": {},
   "source": [
    "# 5. Коррелируют ли число братьев/сестер с числом родителей/детей? Посчитайте корреляцию Пирсона между признаками SibSp и Parch. Оцените значение p-value. Постройте плотность распределения признаков SibSp и Parch"
   ]
  },
  {
   "cell_type": "code",
   "execution_count": 10,
   "id": "7b742c91",
   "metadata": {},
   "outputs": [
    {
     "name": "stdout",
     "output_type": "stream",
     "text": [
      "Корреляция: 0.3735871906264926\n"
     ]
    }
   ],
   "source": [
    "corr = df['sibsp']. corr(df['parch'])\n",
    "print(f'Корреляция: {corr}')"
   ]
  },
  {
   "cell_type": "code",
   "execution_count": 11,
   "id": "b0a86272",
   "metadata": {},
   "outputs": [],
   "source": [
    "from scipy.stats import pearsonr"
   ]
  },
  {
   "cell_type": "code",
   "execution_count": 12,
   "id": "8b1becaa",
   "metadata": {},
   "outputs": [
    {
     "data": {
      "text/plain": [
       "0.0    891\n",
       "1.0    319\n",
       "2.0     42\n",
       "4.0     22\n",
       "3.0     20\n",
       "8.0      9\n",
       "5.0      6\n",
       "Name: sibsp, dtype: int64"
      ]
     },
     "execution_count": 12,
     "metadata": {},
     "output_type": "execute_result"
    }
   ],
   "source": [
    "df['sibsp'].value_counts()\n"
   ]
  },
  {
   "cell_type": "code",
   "execution_count": 13,
   "id": "606a74d2",
   "metadata": {},
   "outputs": [
    {
     "data": {
      "text/plain": [
       "0.0    1002\n",
       "1.0     170\n",
       "2.0     113\n",
       "3.0       8\n",
       "4.0       6\n",
       "5.0       6\n",
       "6.0       2\n",
       "9.0       2\n",
       "Name: parch, dtype: int64"
      ]
     },
     "execution_count": 13,
     "metadata": {},
     "output_type": "execute_result"
    }
   ],
   "source": [
    "df['parch'].value_counts()"
   ]
  },
  {
   "cell_type": "code",
   "execution_count": 14,
   "id": "efbefbb7",
   "metadata": {},
   "outputs": [],
   "source": [
    "df['sibsp'].fillna(0, inplace=True)\n",
    "df['parch'].fillna(0, inplace=True)"
   ]
  },
  {
   "cell_type": "code",
   "execution_count": 15,
   "id": "8828eb4f",
   "metadata": {},
   "outputs": [
    {
     "name": "stdout",
     "output_type": "stream",
     "text": [
      "p-value: 1.1187892695067769e-44\n"
     ]
    }
   ],
   "source": [
    "p_value = pearsonr(df['sibsp'], df['parch'])[1]\n",
    "print(f'p-value: {p_value}')"
   ]
  },
  {
   "cell_type": "code",
   "execution_count": 16,
   "id": "fb062a7a",
   "metadata": {},
   "outputs": [
    {
     "name": "stdout",
     "output_type": "stream",
     "text": [
      "p-value < 0.05: Корреляция статистически значима\n"
     ]
    }
   ],
   "source": [
    "alpha = 0.05\n",
    "if p_value < alpha:\n",
    "    print(f'p-value < {alpha}: Корреляция статистически значима')\n",
    "else:\n",
    "    print(f'p-value >= {alpha}: Корреляция статистически незначима')"
   ]
  },
  {
   "cell_type": "code",
   "execution_count": 17,
   "id": "d5dea746",
   "metadata": {},
   "outputs": [],
   "source": [
    "import matplotlib.pyplot as plt\n",
    "import seaborn as sns"
   ]
  },
  {
   "cell_type": "code",
   "execution_count": 18,
   "id": "449ecbb0",
   "metadata": {},
   "outputs": [
    {
     "data": {
      "image/png": "[encoded data removed]",
      "text/plain": [
       "<Figure size 1080x288 with 2 Axes>"
      ]
     },
     "metadata": {
      "needs_background": "light"
     },
     "output_type": "display_data"
    }
   ],
   "source": [
    "fig, axes = plt.subplots(\n",
    "    1,               #одной строкой                                           \n",
    "    2,               #два графика                                       \n",
    "    figsize=(15, 4)  #вписать в размер 15х4 дюйма                           \n",
    ")\n",
    "\n",
    "axes[0].set_title(f'Братья/сестры')\n",
    "axes[1].set_title(f'Родители')\n",
    "\n",
    "sns.kdeplot(data = df['sibsp'], ax = axes[0])  \n",
    "sns.kdeplot(data = df['parch'], ax = axes[1])  \n",
    "\n",
    "fig.text(0.4,1, 'Плотность распределения', fontweight='bold', fontfamily='serif', fontsize=16);"
   ]
  },
  {
   "cell_type": "markdown",
   "id": "937648bd",
   "metadata": {},
   "source": [
    "# 6. Какое самое популярное женское имя на корабле? Извлеките из полного имени пассажира (колонка Name) его личное имя (First Name). Попробуйте вручную разобрать несколько значенийстолбца Name и выработать правило для извлечения имен, а также разделения их на женские и мужские"
   ]
  },
  {
   "cell_type": "code",
   "execution_count": 19,
   "id": "0d3c270b",
   "metadata": {},
   "outputs": [],
   "source": [
    "female_names = df[df['sex'] == 'female']['name']\n"
   ]
  },
  {
   "cell_type": "code",
   "execution_count": 20,
   "id": "c4531d57",
   "metadata": {},
   "outputs": [
    {
     "data": {
      "text/plain": [
       "William      16\n",
       "John         13\n",
       "Mary         11\n",
       "Anna          9\n",
       "Elizabeth     8\n",
       "             ..\n",
       "Amin          1\n",
       "Sinai         1\n",
       "J             1\n",
       "Florence      1\n",
       "Thamine       1\n",
       "Name: name, Length: 276, dtype: int64"
      ]
     },
     "execution_count": 20,
     "metadata": {},
     "output_type": "execute_result"
    }
   ],
   "source": [
    "tmp = female_names.apply(lambda a: a.split(\",\")[1].split(\" \")[2])\n",
    "tmp.value_counts()"
   ]
  },
  {
   "cell_type": "markdown",
   "id": "e10436fe",
   "metadata": {},
   "source": [
    "Следовательно, самым популярным именем на Титанике является имя Mary"
   ]
  },
  {
   "cell_type": "markdown",
   "id": "461a5d49",
   "metadata": {},
   "source": [
    "# 7. Коррелирует ли класс, которым ехал пассажир, с выживаемостью?"
   ]
  },
  {
   "cell_type": "code",
   "execution_count": 21,
   "id": "ddc19904",
   "metadata": {},
   "outputs": [],
   "source": [
    "from scipy.stats import spearmanr\n",
    "\n",
    "pclass = df['pclass'].dropna()\n",
    "survived = df['survived'].dropna()\n",
    "rho, p =  spearmanr(pclass, survived)\n"
   ]
  },
  {
   "cell_type": "code",
   "execution_count": 22,
   "id": "2d91cf50",
   "metadata": {},
   "outputs": [
    {
     "name": "stdout",
     "output_type": "stream",
     "text": [
      "p-value < 0.05: Корреляция статистически значима\n"
     ]
    }
   ],
   "source": [
    "alpha = 0.05\n",
    "if p < alpha:\n",
    "    print(f'p-value < {alpha}: Корреляция статистически значима')\n",
    "else:\n",
    "    print(f'p-value >= {alpha}: Корреляция статистически незначима')"
   ]
  },
  {
   "cell_type": "markdown",
   "id": "8e8fe466",
   "metadata": {},
   "source": [
    "# 8. Визуализируйте гистограммы возраста для выживших и не выживших пассажиров. Сделайте выводы. Отобразите данные на одном и нескольких графиках"
   ]
  },
  {
   "cell_type": "code",
   "execution_count": 23,
   "id": "4b16fc89",
   "metadata": {},
   "outputs": [
    {
     "data": {
      "text/plain": [
       "<AxesSubplot:xlabel='survived', ylabel='age'>"
      ]
     },
     "execution_count": 23,
     "metadata": {},
     "output_type": "execute_result"
    },
    {
     "data": {
      "image/png": "[encoded data removed]",
      "text/plain": [
       "<Figure size 432x288 with 1 Axes>"
      ]
     },
     "metadata": {
      "needs_background": "light"
     },
     "output_type": "display_data"
    }
   ],
   "source": [
    "sns.barplot(x=\"survived\", y=\"age\", data=df)"
   ]
  },
  {
   "cell_type": "code",
   "execution_count": 24,
   "id": "dec12f3c",
   "metadata": {},
   "outputs": [
    {
     "data": {
      "text/plain": [
       "Text(0.5, 1.0, 'Распределение возраста выживших')"
      ]
     },
     "execution_count": 24,
     "metadata": {},
     "output_type": "execute_result"
    },
    {
     "data": {
      "image/png": "[encoded data removed]",
      "text/plain": [
       "<Figure size 432x288 with 1 Axes>"
      ]
     },
     "metadata": {
      "needs_background": "light"
     },
     "output_type": "display_data"
    }
   ],
   "source": [
    "survived_age = df[df['survived'] == 1]['age']\n",
    "plt.hist(survived_age, color ='yellow', alpha = 0.5, rwidth=0.8)\n",
    "plt.title('Распределение возраста выживших', fontweight = \"bold\")\n"
   ]
  },
  {
   "cell_type": "code",
   "execution_count": 25,
   "id": "75117b71",
   "metadata": {},
   "outputs": [
    {
     "data": {
      "text/plain": [
       "Text(0.5, 1.0, 'Распределение возраста невыживших')"
      ]
     },
     "execution_count": 25,
     "metadata": {},
     "output_type": "execute_result"
    },
    {
     "data": {
      "image/png": "[encoded data removed]",
      "text/plain": [
       "<Figure size 432x288 with 1 Axes>"
      ]
     },
     "metadata": {
      "needs_background": "light"
     },
     "output_type": "display_data"
    }
   ],
   "source": [
    "dead_age = df[df['survived'] == 0]['age']\n",
    "plt.hist(dead_age, color ='red', alpha = 0.5, rwidth=0.8)\n",
    "plt.title('Распределение возраста невыживших', fontweight = \"bold\")"
   ]
  },
  {
   "cell_type": "markdown",
   "id": "fd32463f",
   "metadata": {},
   "source": [
    "Средний возраст выживших меньше, чем невыживших"
   ]
  },
  {
   "cell_type": "markdown",
   "id": "11cdb5c6",
   "metadata": {},
   "source": [
    "# 9. Визуализируйте гистограммы возраста для выживших и не выживших пассажиров по классам. Сделайте выводы"
   ]
  },
  {
   "cell_type": "code",
   "execution_count": 26,
   "id": "a8d88733",
   "metadata": {
    "scrolled": true
   },
   "outputs": [
    {
     "data": {
      "text/plain": [
       "<AxesSubplot:xlabel='survived', ylabel='age'>"
      ]
     },
     "execution_count": 26,
     "metadata": {},
     "output_type": "execute_result"
    },
    {
     "data": {
      "image/png": "[encoded data removed]",
      "text/plain": [
       "<Figure size 432x288 with 1 Axes>"
      ]
     },
     "metadata": {
      "needs_background": "light"
     },
     "output_type": "display_data"
    }
   ],
   "source": [
    "sns.barplot(x = 'survived', y = 'age', hue = 'pclass', data = df)\n"
   ]
  },
  {
   "cell_type": "markdown",
   "id": "8eb910d7",
   "metadata": {},
   "source": [
    "Возрасты выживших и невышивших по классам отличаются незначительно"
   ]
  },
  {
   "cell_type": "markdown",
   "id": "a5ce4d6b",
   "metadata": {},
   "source": [
    "# 10. Постройте столбчатую диаграмму количества людей: мужчины, женщины, дети"
   ]
  },
  {
   "cell_type": "code",
   "execution_count": 27,
   "id": "a2dd95ee",
   "metadata": {},
   "outputs": [
    {
     "data": {
      "text/plain": [
       "<AxesSubplot:xlabel='type', ylabel='count'>"
      ]
     },
     "execution_count": 27,
     "metadata": {},
     "output_type": "execute_result"
    },
    {
     "data": {
      "image/png": "[encoded data removed]",
      "text/plain": [
       "<Figure size 432x288 with 1 Axes>"
      ]
     },
     "metadata": {
      "needs_background": "light"
     },
     "output_type": "display_data"
    }
   ],
   "source": [
    "p_type = df[['age','sex', 'survived']].dropna()\n",
    "p_type.loc[(p_type['age'] >= 18) & (p_type['sex'] == 'male'), 'sex'] = 'Мужчины' \n",
    "p_type.loc[(p_type['age'] >= 18) & (p_type['sex'] == 'female'), 'sex'] = 'Женщины' \n",
    "p_type.loc[(p_type['age'] < 18), 'sex'] = 'Дети'\n",
    "p_type.loc[(p_type['survived'] == 0), 'survived'] = 'Нет'\n",
    "p_type.loc[(p_type['survived'] == 1), 'survived'] = 'Да'\n",
    "p_type = p_type.rename(columns={'sex':'type'})\n",
    "sns.countplot(x=\"type\", hue='survived', data=p_type)\n"
   ]
  }
 ],
 "metadata": {
  "kernelspec": {
   "display_name": "Python 3 (ipykernel)",
   "language": "python",
   "name": "python3"
  },
  "language_info": {
   "codemirror_mode": {
    "name": "ipython",
    "version": 3
   },
   "file_extension": ".py",
   "mimetype": "text/x-python",
   "name": "python",
   "nbconvert_exporter": "python",
   "pygments_lexer": "ipython3",
   "version": "3.9.12"
  }
 },
 "nbformat": 4,
 "nbformat_minor": 5
}
